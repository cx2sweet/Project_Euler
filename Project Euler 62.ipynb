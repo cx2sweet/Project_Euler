{
 "cells": [
  {
   "cell_type": "markdown",
   "id": "7e71b0ce-7d3b-40c4-a378-d736a2a3f06d",
   "metadata": {},
   "source": [
    "The cube, 41063625 = 345^3, can be permuted to produce two other cubes: and In fact, is the smallest cube which has exactly three permutations of its digits which are also cube.\n",
    "\n",
    "Find the smallest cube for which exactly five permutations of its digits are cube.\n",
    "\n",
    "345^3 = 41063625\n",
    "384^3 = 56623104\n",
    "405^3 = 66430125"
   ]
  },
  {
   "cell_type": "code",
   "execution_count": 15,
   "id": "689cc10d-8d77-4a52-bdbe-35f576247580",
   "metadata": {},
   "outputs": [
    {
     "data": {
      "text/plain": [
       "'01234566'"
      ]
     },
     "execution_count": 15,
     "metadata": {},
     "output_type": "execute_result"
    }
   ],
   "source": [
    "cube_1 = 41063625\n",
    "cube_2 = 56623104\n",
    "cube_3 = 66430125\n",
    "''.join(sorted(str(cube_3)))"
   ]
  },
  {
   "cell_type": "code",
   "execution_count": 16,
   "id": "69cb4ac3-e6b3-4984-8ace-3d630f500afe",
   "metadata": {},
   "outputs": [],
   "source": [
    "def make_str(cube):\n",
    "    return ''.join(sorted(str(cube)))\n"
   ]
  },
  {
   "cell_type": "code",
   "execution_count": 33,
   "id": "c351188d-2d70-41c8-a5fd-f3b0fe3bd189",
   "metadata": {},
   "outputs": [
    {
     "name": "stdout",
     "output_type": "stream",
     "text": [
      "base: 8384, cube: 589323567104\n"
     ]
    }
   ],
   "source": [
    "done = False\n",
    "base = 1\n",
    "result_dict = {}\n",
    "\n",
    "while not done:\n",
    "    cube = base**3\n",
    "    cube_as_string = make_str(cube)\n",
    "    result_dict[cube_as_string] = result_dict.get(cube_as_string,0) + 1\n",
    "    if max(result_dict.values()) >= 5:\n",
    "        done = True\n",
    "        print(f\"base: {base}, cube: {cube}\")\n",
    "    base = base + 1\n",
    "\n"
   ]
  },
  {
   "cell_type": "code",
   "execution_count": 35,
   "id": "184aad17-2d78-458b-93e6-f68ec88933a5",
   "metadata": {},
   "outputs": [
    {
     "name": "stdout",
     "output_type": "stream",
     "text": [
      "5027 127035954683\n",
      "7061 352045367981\n",
      "7202 373559126408\n",
      "8288 569310543872\n",
      "8384 589323567104\n"
     ]
    }
   ],
   "source": [
    "#8384^3 = 589323567104\n",
    "#'012334556789'\n",
    "for base in range(1,8385):\n",
    "    cube = base**3\n",
    "    if make_str(cube) == '012334556789':\n",
    "        print(base, cube)\n",
    "        "
   ]
  },
  {
   "cell_type": "code",
   "execution_count": 30,
   "id": "748e7d13-968b-4670-ac8d-b4b49a09aa3d",
   "metadata": {},
   "outputs": [
    {
     "data": {
      "text/plain": [
       "{'1': 1}"
      ]
     },
     "execution_count": 30,
     "metadata": {},
     "output_type": "execute_result"
    }
   ],
   "source": [
    "result_dict"
   ]
  }
 ],
 "metadata": {
  "kernelspec": {
   "display_name": "Python 3 (ipykernel)",
   "language": "python",
   "name": "python3"
  },
  "language_info": {
   "codemirror_mode": {
    "name": "ipython",
    "version": 3
   },
   "file_extension": ".py",
   "mimetype": "text/x-python",
   "name": "python",
   "nbconvert_exporter": "python",
   "pygments_lexer": "ipython3",
   "version": "3.12.5"
  }
 },
 "nbformat": 4,
 "nbformat_minor": 5
}
