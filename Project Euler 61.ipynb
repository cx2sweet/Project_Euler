{
 "cells": [
  {
   "cell_type": "code",
   "execution_count": 10,
   "id": "4e7dbc0e-3350-46e3-835c-fa1110a63773",
   "metadata": {},
   "outputs": [
    {
     "name": "stdout",
     "output_type": "stream",
     "text": [
      "1\n",
      "8\n",
      "21\n",
      "40\n",
      "65\n"
     ]
    }
   ],
   "source": [
    "def P_3(n):\n",
    "    return int((n*(n+1)/2))\n",
    "\n",
    "def P_4(n):\n",
    "    return n**2\n",
    "\n",
    "def P_5(n):\n",
    "    return int((n*(3*n-1)/2))\n",
    "\n",
    "def P_6(n):\n",
    "    return n*(2*n - 1)\n",
    "    \n",
    "def P_7(n):\n",
    "    return int(n*(5*n-3)/2)\n",
    "\n",
    "def P_8(n):\n",
    "    return(n*(3*n - 2))\n",
    "    \n",
    "for i in range(1,6):\n",
    "    print(P_8(i))\n",
    "    "
   ]
  },
  {
   "cell_type": "code",
   "execution_count": null,
   "id": "91382c5b-58ad-4f20-b88c-5b1caeb04266",
   "metadata": {},
   "outputs": [],
   "source": []
  }
 ],
 "metadata": {
  "kernelspec": {
   "display_name": "Python 3 (ipykernel)",
   "language": "python",
   "name": "python3"
  },
  "language_info": {
   "codemirror_mode": {
    "name": "ipython",
    "version": 3
   },
   "file_extension": ".py",
   "mimetype": "text/x-python",
   "name": "python",
   "nbconvert_exporter": "python",
   "pygments_lexer": "ipython3",
   "version": "3.12.5"
  }
 },
 "nbformat": 4,
 "nbformat_minor": 5
}
