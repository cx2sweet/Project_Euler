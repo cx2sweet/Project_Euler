{
 "cells": [
  {
   "cell_type": "code",
   "execution_count": 13,
   "id": "e5b0c40d-300b-496d-a90f-ab6abe4f278b",
   "metadata": {},
   "outputs": [
    {
     "data": {
      "text/plain": [
       "[1, 3, 1, 8]"
      ]
     },
     "execution_count": 13,
     "metadata": {},
     "output_type": "execute_result"
    }
   ],
   "source": [
    "import math\n",
    "def find_pcf_block(S):\n",
    "    m = 0\n",
    "    d = 1\n",
    "    a_0 = math.floor(S**(1/2))\n",
    "    a = a_0\n",
    "    arr = []\n",
    "\n",
    "    while a != 2*a_0:\n",
    "        m_next = d*a - m\n",
    "        d_next = (S - m_next**2)/d\n",
    "        a_next = math.floor( (S**(1/2) + m_next) / d_next)\n",
    "        \n",
    "        m = m_next\n",
    "        d = d_next\n",
    "        a = a_next    \n",
    "        arr.append(a)\n",
    "        \n",
    "    return arr\n",
    "\n",
    "find_pcf_block(23)\n",
    "    "
   ]
  },
  {
   "cell_type": "code",
   "execution_count": 26,
   "id": "f4b9a470-3847-411a-97e2-5ea25120d488",
   "metadata": {},
   "outputs": [
    {
     "data": {
      "text/plain": [
       "1322"
      ]
     },
     "execution_count": 26,
     "metadata": {},
     "output_type": "execute_result"
    }
   ],
   "source": [
    "count = 0\n",
    "\n",
    "for i in range(10001):\n",
    "    if (i**(1/2))%1 !=0:\n",
    "        block = find_pcf_block(i)\n",
    "        if (len(block) % 2 != 0):\n",
    "            count = count + 1\n",
    "\n",
    "count"
   ]
  },
  {
   "cell_type": "code",
   "execution_count": 19,
   "id": "84c2beea-3d1f-47e8-9b2f-7cd26502999e",
   "metadata": {},
   "outputs": [
    {
     "data": {
      "text/plain": [
       "5"
      ]
     },
     "execution_count": 19,
     "metadata": {},
     "output_type": "execute_result"
    }
   ],
   "source": [
    "len(block)"
   ]
  }
 ],
 "metadata": {
  "kernelspec": {
   "display_name": "Python 3 (ipykernel)",
   "language": "python",
   "name": "python3"
  },
  "language_info": {
   "codemirror_mode": {
    "name": "ipython",
    "version": 3
   },
   "file_extension": ".py",
   "mimetype": "text/x-python",
   "name": "python",
   "nbconvert_exporter": "python",
   "pygments_lexer": "ipython3",
   "version": "3.12.5"
  }
 },
 "nbformat": 4,
 "nbformat_minor": 5
}
